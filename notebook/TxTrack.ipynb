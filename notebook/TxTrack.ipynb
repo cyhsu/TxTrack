{
  "nbformat": 4,
  "nbformat_minor": 0,
  "metadata": {
    "kernelspec": {
      "display_name": "Python 3",
      "language": "python",
      "name": "python3"
    },
    "language_info": {
      "codemirror_mode": {
        "name": "ipython",
        "version": 3
      },
      "file_extension": ".py",
      "mimetype": "text/x-python",
      "name": "python",
      "nbconvert_exporter": "python",
      "pygments_lexer": "ipython3",
      "version": "3.7.6"
    },
    "colab": {
      "name": "TxTrack.ipynb",
      "provenance": []
    }
  },
  "cells": [
    {
      "cell_type": "markdown",
      "metadata": {
        "id": "b1a9hlIgcbwf",
        "colab_type": "text"
      },
      "source": [
        "### TxTrack  \n",
        "####  Texas High-Frequency Radar Particle Tracking \n"
      ]
    },
    {
      "cell_type": "code",
      "metadata": {
        "id": "DVDPbakOcbwh",
        "colab_type": "code",
        "colab": {
          "base_uri": "https://localhost:8080/",
          "height": 34
        },
        "outputId": "5a77b83d-7ba9-44ef-9da7-9f7d0afeeff5"
      },
      "source": [
        "!git clone https://github.com/cyhsu/leaflet.timedimention.trajectory.git"
      ],
      "execution_count": 3,
      "outputs": [
        {
          "output_type": "stream",
          "text": [
            "fatal: destination path 'leaflet.timedimention.trajectory' already exists and is not an empty directory.\n"
          ],
          "name": "stdout"
        }
      ]
    },
    {
      "cell_type": "code",
      "metadata": {
        "id": "oqkvyXU5coet",
        "colab_type": "code",
        "colab": {
          "base_uri": "https://localhost:8080/",
          "height": 34
        },
        "outputId": "f033eecb-b5d8-40d7-e723-d46ce6ce8673"
      },
      "source": [
        "cd leaflet\\.timedimention\\.trajectory/\n"
      ],
      "execution_count": 4,
      "outputs": [
        {
          "output_type": "stream",
          "text": [
            "/content/leaflet.timedimention.trajectory\n"
          ],
          "name": "stdout"
        }
      ]
    },
    {
      "cell_type": "code",
      "metadata": {
        "id": "kGy5423yfh_Q",
        "colab_type": "code",
        "colab": {
          "base_uri": "https://localhost:8080/",
          "height": 442
        },
        "outputId": "0f8ee5b4-9653-4125-a63e-5873033ca252"
      },
      "source": [
        "!apt-get install libproj-dev proj-data proj-bin\n",
        "!apt-get install libgeos-dev\n",
        "!pip install cython\n",
        "!pip install cartopy"
      ],
      "execution_count": 5,
      "outputs": [
        {
          "output_type": "stream",
          "text": [
            "Reading package lists... Done\n",
            "Building dependency tree       \n",
            "Reading state information... Done\n",
            "libproj-dev is already the newest version (4.9.3-2).\n",
            "proj-bin is already the newest version (4.9.3-2).\n",
            "proj-data is already the newest version (4.9.3-2).\n",
            "The following package was automatically installed and is no longer required:\n",
            "  libnvidia-common-430\n",
            "Use 'apt autoremove' to remove it.\n",
            "0 upgraded, 0 newly installed, 0 to remove and 25 not upgraded.\n",
            "Reading package lists... Done\n",
            "Building dependency tree       \n",
            "Reading state information... Done\n",
            "libgeos-dev is already the newest version (3.6.2-1build2).\n",
            "The following package was automatically installed and is no longer required:\n",
            "  libnvidia-common-430\n",
            "Use 'apt autoremove' to remove it.\n",
            "0 upgraded, 0 newly installed, 0 to remove and 25 not upgraded.\n",
            "Requirement already satisfied: cython in /usr/local/lib/python3.6/dist-packages (0.29.15)\n",
            "Requirement already satisfied: cartopy in /usr/local/lib/python3.6/dist-packages (0.17.0)\n",
            "Requirement already satisfied: pyshp>=1.1.4 in /usr/local/lib/python3.6/dist-packages (from cartopy) (2.1.0)\n",
            "Requirement already satisfied: six>=1.3.0 in /usr/local/lib/python3.6/dist-packages (from cartopy) (1.12.0)\n",
            "Requirement already satisfied: shapely>=1.5.6 in /usr/local/lib/python3.6/dist-packages (from cartopy) (1.7.0)\n",
            "Requirement already satisfied: setuptools>=0.7.2 in /usr/local/lib/python3.6/dist-packages (from cartopy) (45.1.0)\n",
            "Requirement already satisfied: numpy>=1.10 in /usr/local/lib/python3.6/dist-packages (from cartopy) (1.17.0)\n"
          ],
          "name": "stdout"
        }
      ]
    },
    {
      "cell_type": "code",
      "metadata": {
        "id": "FtXlgbL3cxxA",
        "colab_type": "code",
        "colab": {
          "base_uri": "https://localhost:8080/",
          "height": 326
        },
        "outputId": "511db357-fd61-43a7-c1b0-b72a8d74c48f"
      },
      "source": [
        "pip install -r requirements.txt"
      ],
      "execution_count": 6,
      "outputs": [
        {
          "output_type": "stream",
          "text": [
            "Requirement already satisfied: flask==1.1.1 in /usr/local/lib/python3.6/dist-packages (from -r requirements.txt (line 1)) (1.1.1)\n",
            "Requirement already satisfied: flask-compress==1.4.0 in /usr/local/lib/python3.6/dist-packages (from -r requirements.txt (line 2)) (1.4.0)\n",
            "Requirement already satisfied: numpy==1.17.0 in /usr/local/lib/python3.6/dist-packages (from -r requirements.txt (line 3)) (1.17.0)\n",
            "Requirement already satisfied: scipy==1.3.1 in /usr/local/lib/python3.6/dist-packages (from -r requirements.txt (line 4)) (1.3.1)\n",
            "Requirement already satisfied: netcdf4==1.5.2 in /usr/local/lib/python3.6/dist-packages (from -r requirements.txt (line 5)) (1.5.2)\n",
            "Requirement already satisfied: dask==2.2.0 in /usr/local/lib/python3.6/dist-packages (from -r requirements.txt (line 6)) (2.2.0)\n",
            "Requirement already satisfied: xarray==0.14.1 in /usr/local/lib/python3.6/dist-packages (from -r requirements.txt (line 7)) (0.14.1)\n",
            "Requirement already satisfied: Jinja2>=2.10.1 in /usr/local/lib/python3.6/dist-packages (from flask==1.1.1->-r requirements.txt (line 1)) (2.11.1)\n",
            "Requirement already satisfied: Werkzeug>=0.15 in /usr/local/lib/python3.6/dist-packages (from flask==1.1.1->-r requirements.txt (line 1)) (1.0.0)\n",
            "Requirement already satisfied: itsdangerous>=0.24 in /usr/local/lib/python3.6/dist-packages (from flask==1.1.1->-r requirements.txt (line 1)) (1.1.0)\n",
            "Requirement already satisfied: click>=5.1 in /usr/local/lib/python3.6/dist-packages (from flask==1.1.1->-r requirements.txt (line 1)) (7.0)\n",
            "Requirement already satisfied: cftime in /usr/local/lib/python3.6/dist-packages (from netcdf4==1.5.2->-r requirements.txt (line 5)) (1.1.0)\n",
            "Requirement already satisfied: pandas>=0.24 in /usr/local/lib/python3.6/dist-packages (from xarray==0.14.1->-r requirements.txt (line 7)) (0.25.3)\n",
            "Requirement already satisfied: MarkupSafe>=0.23 in /usr/local/lib/python3.6/dist-packages (from Jinja2>=2.10.1->flask==1.1.1->-r requirements.txt (line 1)) (1.1.1)\n",
            "Requirement already satisfied: python-dateutil>=2.6.1 in /usr/local/lib/python3.6/dist-packages (from pandas>=0.24->xarray==0.14.1->-r requirements.txt (line 7)) (2.6.1)\n",
            "Requirement already satisfied: pytz>=2017.2 in /usr/local/lib/python3.6/dist-packages (from pandas>=0.24->xarray==0.14.1->-r requirements.txt (line 7)) (2018.9)\n",
            "Requirement already satisfied: six>=1.5 in /usr/local/lib/python3.6/dist-packages (from python-dateutil>=2.6.1->pandas>=0.24->xarray==0.14.1->-r requirements.txt (line 7)) (1.12.0)\n"
          ],
          "name": "stdout"
        }
      ]
    },
    {
      "cell_type": "code",
      "metadata": {
        "id": "iXFQiYh_cbwj",
        "colab_type": "code",
        "colab": {}
      },
      "source": [
        "import numpy as np\n",
        "import matplotlib.pyplot as plt\n",
        "import cartopy.crs as ccrs\n",
        "import cartopy.feature as cf\n",
        "from src.api.fetch import fetch\n"
      ],
      "execution_count": 0,
      "outputs": []
    },
    {
      "cell_type": "code",
      "metadata": {
        "id": "fr9PHXQWcbwm",
        "colab_type": "code",
        "colab": {
          "base_uri": "https://localhost:8080/",
          "height": 85
        },
        "outputId": "5dd8747d-ffdd-429f-dec6-d93030cbf165"
      },
      "source": [
        "start_time = '2018-07-01'\n",
        "end_time  = '2018-07-03'\n",
        "cls = fetch(-94.88, 29.11,start_time,end_time)\n",
        "json01 = cls.json()[0]\n",
        "print(json01.keys())"
      ],
      "execution_count": 8,
      "outputs": [
        {
          "output_type": "stream",
          "text": [
            "\t\t\t Retrieve Dataset from UCSD HFRadar threddsURL\n",
            "\n",
            "\t\t\t Load the entire dataset\n",
            "dict_keys(['type', 'geometry', 'properties'])\n"
          ],
          "name": "stdout"
        }
      ]
    },
    {
      "cell_type": "code",
      "metadata": {
        "id": "pxTyswdBd0Lm",
        "colab_type": "code",
        "colab": {
          "base_uri": "https://localhost:8080/",
          "height": 221
        },
        "outputId": "3eca3abf-5ee1-4bf2-bd73-82c278e71398"
      },
      "source": [
        "lon,lat = np.squeeze(json01['geometry']['coordinates']).T\n",
        "print(lat)"
      ],
      "execution_count": 9,
      "outputs": [
        {
          "output_type": "stream",
          "text": [
            "[29.11       29.11175539 29.11455646 29.11792518 29.12198131 29.12477352\n",
            " 29.12828813 29.13382838 29.14017884 29.14659475 29.1533146  29.158406\n",
            " 29.16342819 29.16550622 29.16826981 29.17255386 29.17752943 29.18224959\n",
            " 29.18683113 29.18998498 29.19189551 29.19426105 29.19472475 29.19466766\n",
            " 29.19392181 29.19254125 29.19044095 29.19004424 29.19020526 29.19069655\n",
            " 29.1922163  29.19402966 29.19611067 29.19799131 29.1996225  29.20066722\n",
            " 29.20196664 29.2038901  29.20575933 29.20756069 29.20909113 29.21017667\n",
            " 29.21120639 29.21193051 29.21184076 29.2115025  29.21183857 29.21261509\n",
            " 29.21311591 29.21296065 29.21174046 29.20989061 29.2081496  29.20672511\n",
            " 29.20548622 29.20500237 29.20526519 29.20699981 29.20891426 29.21109258\n",
            " 29.21245912 29.21327631 29.21392419 29.21401763 29.21343928 29.21239682\n",
            " 29.21187178 29.21087177 29.21000677 29.21022799 29.21069965 29.21077892]\n"
          ],
          "name": "stdout"
        }
      ]
    },
    {
      "cell_type": "code",
      "metadata": {
        "id": "TqqF2wEwd8JN",
        "colab_type": "code",
        "colab": {
          "base_uri": "https://localhost:8080/",
          "height": 767
        },
        "outputId": "87b76491-06a5-4ce7-baf7-b6e0f9f3dd54"
      },
      "source": [
        "fig, axes = plt.subplots(ncols=1,nrows=1,\n",
        "                         figsize=(15,12),\n",
        "                         subplot_kw=dict(projection=ccrs.PlateCarree()))\n",
        "extent = [-99.0, -90.0, 25.0, 30.0]\n",
        "# axes.set_extent(extent)\n",
        "# axes.add_feature(cf.LAND(scale='10m'))\n",
        "# axes.add_feature(cf.OCEAN)  \n",
        "axes.add_feature(cf.STATES, linestyle='-',lw=1.0,edgecolor='white')  \n",
        "axes.add_feature(cf.BORDERS, linestyle='-', lw=2.5,edgecolor='white')  \n",
        "axes.gridlines(color='gray',alpha=0.6,draw_labels=True) \n",
        "axes.coastlines(resolution='10m')\n",
        "axes.plot(lon[0],lat[0],'k*',markersize=12)\n",
        "axes.plot(lon,lat,'*-')\n",
        "axes.set_ylim([28.8,29.5])\n",
        "# axes.set_xlim([-99])\n",
        "# axes.set_extent([-99, -93, 25, 30],crs=ccrs.PlateCarree())\n",
        "\n",
        "plt.show()"
      ],
      "execution_count": 17,
      "outputs": [
        {
          "output_type": "stream",
          "text": [
            "/usr/local/lib/python3.6/dist-packages/cartopy/io/__init__.py:260: DownloadWarning: Downloading: http://naciscdn.org/naturalearth/10m/physical/ne_10m_coastline.zip\n",
            "  warnings.warn('Downloading: {}'.format(url), DownloadWarning)\n"
          ],
          "name": "stderr"
        },
        {
          "output_type": "display_data",
          "data": {
            "image/png": "[encoded data removed]",
            "text/plain": [
              "<Figure size 1080x864 with 1 Axes>"
            ]
          },
          "metadata": {
            "tags": []
          }
        }
      ]
    },
    {
      "cell_type": "code",
      "metadata": {
        "id": "yN8Dx0JmfF2R",
        "colab_type": "code",
        "colab": {}
      },
      "source": [
        "cf.LAND?"
      ],
      "execution_count": 0,
      "outputs": []
    },
    {
      "cell_type": "code",
      "metadata": {
        "id": "0dElA7nljk05",
        "colab_type": "code",
        "colab": {}
      },
      "source": [
        ""
      ],
      "execution_count": 0,
      "outputs": []
    }
  ]
}