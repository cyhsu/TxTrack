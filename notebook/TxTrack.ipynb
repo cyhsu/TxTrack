{
  "nbformat": 4,
  "nbformat_minor": 0,
  "metadata": {
    "kernelspec": {
      "display_name": "Python 3",
      "language": "python",
      "name": "python3"
    },
    "language_info": {
      "codemirror_mode": {
        "name": "ipython",
        "version": 3
      },
      "file_extension": ".py",
      "mimetype": "text/x-python",
      "name": "python",
      "nbconvert_exporter": "python",
      "pygments_lexer": "ipython3",
      "version": "3.7.6"
    },
    "colab": {
      "name": "TxTrack.ipynb",
      "provenance": []
    }
  },
  "cells": [
    {
      "cell_type": "markdown",
      "metadata": {
        "id": "b1a9hlIgcbwf",
        "colab_type": "text"
      },
      "source": [
        "### TxTrack  \n",
        "####  Texas High-Frequency Radar Particle Tracking  \n",
        "\n",
        "Three Components of TxTrack\n",
        "> 1. External Data Access  \n",
        "> 2. Computing Kernel  \n",
        "> 3. Web Visualization\n",
        "\n",
        "Requirements:\n",
        "> Flask + Flask-compress   \n",
        "> Xarray + SciPY + Dask + netCDF4 \n",
        "> Numpy\n",
        ">  \n"
      ]
    },
    {
      "cell_type": "code",
      "metadata": {
        "id": "DVDPbakOcbwh",
        "colab_type": "code",
        "colab": {}
      },
      "source": [
        "!git clone https://github.com/cyhsu/leaflet.timedimention.trajectory.git"
      ],
      "execution_count": 0,
      "outputs": []
    },
    {
      "cell_type": "code",
      "metadata": {
        "id": "kGy5423yfh_Q",
        "colab_type": "code",
        "colab": {}
      },
      "source": [
        "!apt-get install libproj-dev proj-data proj-bin -qq\n",
        "!apt-get install libgeos-dev -qq\n",
        "!pip install -q cython\n",
        "!pip install -q cartopy"
      ],
      "execution_count": 0,
      "outputs": []
    },
    {
      "cell_type": "code",
      "metadata": {
        "id": "FtXlgbL3cxxA",
        "colab_type": "code",
        "colab": {}
      },
      "source": [
        "cd leaflet\\.timedimention\\.trajectory/\n",
        "pip install -q -r requirements.txt"
      ],
      "execution_count": 0,
      "outputs": []
    },
    {
      "cell_type": "code",
      "metadata": {
        "id": "iXFQiYh_cbwj",
        "colab_type": "code",
        "colab": {}
      },
      "source": [
        "import numpy as np\n",
        "import matplotlib.pyplot as plt\n",
        "import cartopy.crs as ccrs\n",
        "import cartopy.feature as cf\n",
        "from src.api.fetch import fetch"
      ],
      "execution_count": 0,
      "outputs": []
    },
    {
      "cell_type": "code",
      "metadata": {
        "id": "fr9PHXQWcbwm",
        "colab_type": "code",
        "colab": {}
      },
      "source": [
        "start_time = '2019-07-01'\n",
        "end_time  = '2019-07-03'\n",
        "cls = fetch(-96.88, 27.21,start_time,end_time)\n",
        "json01 = cls.json()[0]\n",
        "print(json01.keys())"
      ],
      "execution_count": 0,
      "outputs": []
    },
    {
      "cell_type": "code",
      "metadata": {
        "id": "pxTyswdBd0Lm",
        "colab_type": "code",
        "colab": {}
      },
      "source": [
        "lon,lat = np.squeeze(json01['geometry']['coordinates']).T\n",
        "print(lat)"
      ],
      "execution_count": 0,
      "outputs": []
    },
    {
      "cell_type": "code",
      "metadata": {
        "id": "TqqF2wEwd8JN",
        "colab_type": "code",
        "colab": {}
      },
      "source": [
        "fig, axes = plt.subplots(ncols=1,nrows=1,\n",
        "                         figsize=(15,12),\n",
        "                         subplot_kw=dict(projection=ccrs.PlateCarree()))\n",
        "extent = [-99.0, -90.0, 25.0, 30.0]\n",
        "# axes.set_extent(extent)\n",
        "axes.add_feature(cf.LAND.with_scale('10m'))\n",
        "# axes.add_feature(cf.OCEAN)  \n",
        "axes.add_feature(cf.STATES, linestyle='-',lw=1.0,edgecolor='white')  \n",
        "axes.add_feature(cf.BORDERS, linestyle='-', lw=2.5,edgecolor='white')  \n",
        "axes.gridlines(color='gray',alpha=0.6,draw_labels=True) \n",
        "axes.coastlines(resolution='10m')\n",
        "axes.set_ylim([27.0,29.0])\n",
        "axes.set_xlim([-97.8,-96.0])\n",
        "axes.plot(lon[0],lat[0],'k*',markersize=12)\n",
        "axes.plot(lon,lat,'*-')\n",
        "plt.show()"
      ],
      "execution_count": 0,
      "outputs": []
    },
    {
      "cell_type": "code",
      "metadata": {
        "id": "0dElA7nljk05",
        "colab_type": "code",
        "colab": {}
      },
      "source": [
        ""
      ],
      "execution_count": 0,
      "outputs": []
    }
  ]
}