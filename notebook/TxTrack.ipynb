{
  "nbformat": 4,
  "nbformat_minor": 0,
  "metadata": {
    "kernelspec": {
      "display_name": "Python 3",
      "language": "python",
      "name": "python3"
    },
    "language_info": {
      "codemirror_mode": {
        "name": "ipython",
        "version": 3
      },
      "file_extension": ".py",
      "mimetype": "text/x-python",
      "name": "python",
      "nbconvert_exporter": "python",
      "pygments_lexer": "ipython3",
      "version": "3.7.6"
    },
    "colab": {
      "name": "TxTrack.ipynb",
      "provenance": [],
      "include_colab_link": true
    }
  },
  "cells": [
    {
      "cell_type": "markdown",
      "metadata": {
        "id": "view-in-github",
        "colab_type": "text"
      },
      "source": [
        "<a href=\"https://colab.research.google.com/github/cyhsu/leaflet.timedimention.trajectory/blob/master/notebook/TxTrack.ipynb\" target=\"_parent\"><img src=\"https://colab.research.google.com/assets/colab-badge.svg\" alt=\"Open In Colab\"/></a>"
      ]
    },
    {
      "cell_type": "markdown",
      "metadata": {
        "id": "b1a9hlIgcbwf",
        "colab_type": "text"
      },
      "source": [
        "## TxTrack  \n",
        "###  Texas HFR Particle Tracking  \n",
        "\n",
        "This jupyter notebook is specific for how to use particle tracking tool offline.\n",
        "To use this notebook, you can use google colab notebook by searching github account \"cyhsu\" to load this notebook.  \n",
        "\n",
        "---\n",
        "\n",
        "Brief Introduction to TxTrack.  \n",
        "  \n",
        "\n",
        "**Requirements:**\n",
        "> Flask + Flask-compress   \n",
        "> Xarray + SciPY + Dask + netCDF4 \n",
        "> Numpy\n",
        ">  \n",
        "\n",
        "The TxTrack is entirely covered by python language. We use \"Numpy\", \"Xarray\", \"SciPY\", \"Dask\", \"netCDF4\", \"Flask\" and \"Flask-compress\". Mostly, if you have installed \"Xarray\", you don't need to install other packages to use TxTrack offline. However, if you want to use our visualization (online), you have to have both Flask and Flask-compress packages.    \n",
        "  \n",
        "  \n",
        "  \n",
        "**Three Components of TxTrack**\n",
        "> 1. External Data Access  \n",
        "> 2. Computing Kernel  \n",
        "> 3. Web Visualization  \n",
        "  \n",
        "The first component is the external data access component. This component does not only allow us to pull the data from the THREDDS server directly from UCSD, but also allowing us to pull the data from the local directories where they exist. The second component is the computing kernel. The computing kernel computes the particle tracking by using a Lagrangian particle trajectory method. This kernel uses both python packages, Xarray and Dask, which provides us the capability in NetCDF of reading, interpolation, and parallel computing. The third component is the visualization component, which is the user-friendly interface page that is readable from any browser.  The component allows end-users to input the duration and location for the initial release position, and passes the information to the computing kernel, pulls the results from the kernel and presents it on the GIS map. The particles are continuously releasing at each time step at the initial location in the time loop, which supports the potential impact of the surface current field from the initial releasing position. You can try this on our test site at http://geo.gcoos.org:8012. The current version of the TxTrack can be regarded as the beta version, and it will be soon be integrated into GCOOS products. \n"
      ]
    },
    {
      "cell_type": "code",
      "metadata": {
        "id": "DVDPbakOcbwh",
        "colab_type": "code",
        "colab": {}
      },
      "source": [
        "#--  This cell clone the entire github repository\n",
        "!git clone https://github.com/cyhsu/leaflet.timedimention.trajectory.git"
      ],
      "execution_count": 0,
      "outputs": []
    },
    {
      "cell_type": "code",
      "metadata": {
        "id": "kGy5423yfh_Q",
        "colab_type": "code",
        "colab": {}
      },
      "source": [
        "#--  This cell is for python cartopy installation.\n",
        "!apt-get install libproj-dev proj-data proj-bin -qq\n",
        "!apt-get install libgeos-dev -qq\n",
        "!pip install -q cython\n",
        "!pip install -q cartopy"
      ],
      "execution_count": 0,
      "outputs": []
    },
    {
      "cell_type": "code",
      "metadata": {
        "id": "FtXlgbL3cxxA",
        "colab_type": "code",
        "colab": {}
      },
      "source": [
        "#--  This cell installs the requirements of this package.\n",
        "cd leaflet\\.timedimention\\.trajectory/\n",
        "pip install -q -r requirements.txt"
      ],
      "execution_count": 0,
      "outputs": []
    },
    {
      "cell_type": "code",
      "metadata": {
        "id": "iXFQiYh_cbwj",
        "colab_type": "code",
        "colab": {}
      },
      "source": [
        "#-- Import Python Packages.\n",
        "import numpy as np\n",
        "import matplotlib.pyplot as plt\n",
        "import cartopy.crs as ccrs\n",
        "import cartopy.feature as cf\n",
        "from src.api.fetch import fetch"
      ],
      "execution_count": 0,
      "outputs": []
    },
    {
      "cell_type": "code",
      "metadata": {
        "id": "fr9PHXQWcbwm",
        "colab_type": "code",
        "colab": {}
      },
      "source": [
        "#-- Setup the duration and initial location.\n",
        "start_time = '2019-07-01'\n",
        "end_time  = '2019-07-03'\n",
        "init_lat, init_lon = 27.21, -96.88\n",
        "\n",
        "cls = fetch(init_lon, init_lon,start_time,end_time)\n",
        "json01 = cls.json()[0]\n",
        "print(json01.keys())"
      ],
      "execution_count": 0,
      "outputs": []
    },
    {
      "cell_type": "code",
      "metadata": {
        "id": "pxTyswdBd0Lm",
        "colab_type": "code",
        "colab": {}
      },
      "source": [
        "#-- Extract the particle location\n",
        "lon,lat = np.squeeze(json01['geometry']['coordinates']).T\n",
        "print(lat)"
      ],
      "execution_count": 0,
      "outputs": []
    },
    {
      "cell_type": "code",
      "metadata": {
        "id": "TqqF2wEwd8JN",
        "colab_type": "code",
        "colab": {}
      },
      "source": [
        "fig, axes = plt.subplots(ncols=1,nrows=1,\n",
        "                         figsize=(15,12),\n",
        "                         subplot_kw=dict(projection=ccrs.PlateCarree()))\n",
        "\n",
        "axes.add_feature(cf.LAND.with_scale('10m'))\n",
        "axes.add_feature(cf.OCEAN.with_scale('10m'))  \n",
        "axes.add_feature(cf.STATES.with_scale('10m'), \n",
        "                 linestyle='-',lw=1.0,edgecolor='white')  \n",
        "axes.add_feature(cf.BORDERS.with_scale('10m'), \n",
        "                 linestyle='-',lw=2.5,edgecolor='white')  \n",
        "axes.gridlines(color='gray',alpha=0.6,draw_labels=True) \n",
        "axes.coastlines(resolution='10m')\n",
        "axes.set_ylim([27.0,29.0])\n",
        "axes.set_xlim([-97.8,-96.0])\n",
        "axes.plot(lon[0],lat[0],'k*',markersize=12)\n",
        "axes.plot(lon,lat,'*-')\n",
        "plt.show()"
      ],
      "execution_count": 0,
      "outputs": []
    },
    {
      "cell_type": "code",
      "metadata": {
        "id": "0dElA7nljk05",
        "colab_type": "code",
        "colab": {}
      },
      "source": [
        ""
      ],
      "execution_count": 0,
      "outputs": []
    }
  ]
}